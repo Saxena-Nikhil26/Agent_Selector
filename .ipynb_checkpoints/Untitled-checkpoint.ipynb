{
 "cells": [
  {
   "cell_type": "code",
   "execution_count": 10,
   "metadata": {},
   "outputs": [],
   "source": [
    "import unittest"
   ]
  },
  {
   "cell_type": "code",
   "execution_count": 11,
   "metadata": {},
   "outputs": [],
   "source": [
    "roles_list = ['1. Support','2. Sales','3. English']"
   ]
  },
  {
   "cell_type": "code",
   "execution_count": 12,
   "metadata": {},
   "outputs": [],
   "source": [
    "class agents:\n",
    "    def __init__(self,agent_id,is_available,available_since,roles):\n",
    "        self.agent_id = agent_id\n",
    "        self.is_available = is_available\n",
    "        self.available_since = available_since\n",
    "        self.roles = roles"
   ]
  },
  {
   "cell_type": "code",
   "execution_count": 13,
   "metadata": {},
   "outputs": [],
   "source": [
    "class issue:\n",
    "    def __init__(self,roles):\n",
    "        self.roles = roles"
   ]
  },
  {
   "cell_type": "code",
   "execution_count": 14,
   "metadata": {},
   "outputs": [],
   "source": [
    "def agents_input():\n",
    "    agents_list = list()\n",
    "    x = int(input(\" Enter the number of agents : \"))\n",
    "    for i in range(x):\n",
    "        print(' Enter the agent ' + str(i) + ' data')\n",
    "         # specify True or False\n",
    "        is_available = input(' True or False : ')\n",
    "        if is_available == 'True' or is_available == 'true':\n",
    "            is_available = True\n",
    "        else:\n",
    "            is_available = False\n",
    "         # specify time in minutes\n",
    "        available_since = int(input(' Enter the time in minutes : '))\n",
    "        print('Specify the digits as mentioned in the list',*roles_list)\n",
    "        # Specify the roles as mentioned in the list (digits) only\n",
    "        roles = [int(a) for a in input().split()]\n",
    "        agents_list.append(agents(i,is_available,available_since,roles))\n",
    "    return agents_list"
   ]
  },
  {
   "cell_type": "code",
   "execution_count": 15,
   "metadata": {},
   "outputs": [],
   "source": [
    "def issue_input():\n",
    "    issue_list = list()\n",
    "    x = int(input(\" Enter the number of issue : \"))\n",
    "    for i in range(x):\n",
    "        print(' Specify the digit as mentioned in the list', *roles_list)\n",
    "        # Specify the roles as mentioned in the list (digits) only\n",
    "        roles = [int(a) for a in input().split()]\n",
    "        issue_list.append(issue(roles))\n",
    "    return issue_list"
   ]
  },
  {
   "cell_type": "code",
   "execution_count": 16,
   "metadata": {},
   "outputs": [],
   "source": [
    "def agent_selector(issue_list,agents_list,selector_mode):\n",
    "    agent_selected = list()\n",
    "    for ele in issue_list:\n",
    "        if selector_mode == 0:\n",
    "            dummy_list = list()\n",
    "            for ele2 in agents_list:\n",
    "                if ele2.is_available == True and sum(ele2.roles) == sum(ele.roles):\n",
    "                    dummy_list.append(ele2.agent_id) # store the agent id\n",
    "            agent_selected.append(dummy_list)\n",
    "        elif selector_mode == 1:\n",
    "            dummy = None\n",
    "            dummy_list1 = list()\n",
    "            maxi = -999999\n",
    "            for ele2 in agents_list:\n",
    "                if ele2.is_available == True and sum(ele2.roles) == sum(ele.roles):\n",
    "                    if ele2.available_since > maxi:\n",
    "                        maxi = ele2.available_since\n",
    "                        dummy = ele2.agent_id # store the agent id\n",
    "            dummy_list1.append(dummy)\n",
    "            agent_selected.append(dummy_list1)\n",
    "        elif selector_mode == 2:\n",
    "            dummy_list2 = list()\n",
    "            for ele2 in agents_list:\n",
    "                if ele2.is_available == True and sum(ele2.roles) == sum(ele.roles):\n",
    "                    dummy_list2.append(ele2.agent_id) # store the agent id\n",
    "                    break\n",
    "            agent_selected.append(dummy_list2)\n",
    "    return agent_selected"
   ]
  },
  {
   "cell_type": "code",
   "execution_count": 17,
   "metadata": {},
   "outputs": [],
   "source": [
    "def print_agents_selected():\n",
    "    agents_list = agents_input()\n",
    "    issues_list = issue_input()\n",
    "    selector = int(input(' Enter the selector mode 1. all available 2. available longest 3. random'))\n",
    "    x = agent_selector(issues_list,agents_list,selector - 1)\n",
    "    # print the agent id \n",
    "    for ele in x:\n",
    "        print(ele)"
   ]
  },
  {
   "cell_type": "code",
   "execution_count": 19,
   "metadata": {},
   "outputs": [
    {
     "name": "stdout",
     "output_type": "stream",
     "text": [
      " Enter the number of agents : 3\n",
      " Enter the agent 0 data\n",
      " True or False : True\n",
      " Enter the time in minutes : 90\n",
      "Specify the digits as mentioned in the list 1. Support 2. Sales 3. English\n",
      "1 2 3\n",
      " Enter the agent 1 data\n",
      " True or False : False\n",
      " Enter the time in minutes : 90\n",
      "Specify the digits as mentioned in the list 1. Support 2. Sales 3. English\n",
      "3\n",
      " Enter the agent 2 data\n",
      " True or False : True\n",
      " Enter the time in minutes : 70\n",
      "Specify the digits as mentioned in the list 1. Support 2. Sales 3. English\n",
      "1 2 3\n",
      " Enter the number of issue : 3\n",
      " Specify the digit as mentioned in the list 1. Support 2. Sales 3. English\n",
      "1 2 3\n",
      " Specify the digit as mentioned in the list 1. Support 2. Sales 3. English\n",
      "3\n",
      " Specify the digit as mentioned in the list 1. Support 2. Sales 3. English\n",
      "2\n",
      " Enter the selector mode 1. all 2. available longest 3. random1\n",
      "[0, 2]\n",
      "[]\n",
      "[]\n"
     ]
    }
   ],
   "source": [
    "print_agents_selected()"
   ]
  },
  {
   "cell_type": "code",
   "execution_count": 23,
   "metadata": {},
   "outputs": [
    {
     "name": "stdout",
     "output_type": "stream",
     "text": [
      " Enter the number of agents : 3\n",
      " Enter the agent 0 data\n",
      " True or False : True\n",
      " Enter the time in minutes : 90\n",
      "Specify the digits as mentioned in the list 1. Support 2. Sales 3. English\n",
      "1 2 3\n",
      " Enter the agent 1 data\n",
      " True or False : True\n",
      " Enter the time in minutes : 80\n",
      "Specify the digits as mentioned in the list 1. Support 2. Sales 3. English\n",
      "3\n",
      " Enter the agent 2 data\n",
      " True or False : True\n",
      " Enter the time in minutes : 70\n",
      "Specify the digits as mentioned in the list 1. Support 2. Sales 3. English\n",
      "3\n",
      " Enter the number of issue : 2\n",
      " Specify the digit as mentioned in the list 1. Support 2. Sales 3. English\n",
      "1 2 3\n",
      " Specify the digit as mentioned in the list 1. Support 2. Sales 3. English\n",
      "3\n",
      " Enter the selector mode 1. all available 2. available longest 3. random2\n",
      "[0]\n",
      "[1]\n"
     ]
    }
   ],
   "source": [
    "agents_list = agents_input()\n",
    "issues_list = issue_input()\n",
    "selector = int(input(' Enter the selector mode 1. all available 2. available longest 3. random'))\n",
    "x = agent_selector(issues_list,agents_list,selector - 1)\n",
    "for ele in x:\n",
    "    print(ele)"
   ]
  },
  {
   "cell_type": "code",
   "execution_count": 25,
   "metadata": {},
   "outputs": [
    {
     "name": "stderr",
     "output_type": "stream",
     "text": [
      "test1 (__main__.SimpleTest) ... ok\n",
      "test2 (__main__.SimpleTest) ... FAIL\n",
      "test3 (__main__.SimpleTest) ... ok\n",
      "\n",
      "======================================================================\n",
      "FAIL: test2 (__main__.SimpleTest)\n",
      "----------------------------------------------------------------------\n",
      "Traceback (most recent call last):\n",
      "  File \"<ipython-input-25-4aed56eebda6>\", line 7, in test2\n",
      "    self.assertEqual(agent_selector(issues_list,agents_list,0),x)\n",
      "AssertionError: Lists differ: [[0], [1, 2]] != [[0], [1]]\n",
      "\n",
      "First differing element 1:\n",
      "[1, 2]\n",
      "[1]\n",
      "\n",
      "- [[0], [1, 2]]\n",
      "?         ---\n",
      "\n",
      "+ [[0], [1]]\n",
      "\n",
      "----------------------------------------------------------------------\n",
      "Ran 3 tests in 0.005s\n",
      "\n",
      "FAILED (failures=1)\n"
     ]
    }
   ],
   "source": [
    "class SimpleTest(unittest.TestCase):\n",
    "    \n",
    "    def test1(self):\n",
    "        self.assertEqual(agent_selector(issues_list,agents_list,1),x)\n",
    "        \n",
    "    def test2(self):\n",
    "        self.assertEqual(agent_selector(issues_list,agents_list,0),x)\n",
    "    \n",
    "    def test3(self):\n",
    "        self.assertEqual(agent_selector(issues_list,agents_list,2),x)\n",
    "        \n",
    "if __name__ == '__main__':\n",
    "    unittest.main(argv = ['first-arg-is-ignored'],verbosity = 2,exit = False)"
   ]
  },
  {
   "cell_type": "code",
   "execution_count": 26,
   "metadata": {},
   "outputs": [],
   "source": []
  },
  {
   "cell_type": "code",
   "execution_count": null,
   "metadata": {},
   "outputs": [],
   "source": []
  },
  {
   "cell_type": "code",
   "execution_count": 99,
   "metadata": {},
   "outputs": [],
   "source": []
  },
  {
   "cell_type": "code",
   "execution_count": null,
   "metadata": {},
   "outputs": [],
   "source": []
  }
 ],
 "metadata": {
  "kernelspec": {
   "display_name": "Python 3",
   "language": "python",
   "name": "python3"
  },
  "language_info": {
   "codemirror_mode": {
    "name": "ipython",
    "version": 3
   },
   "file_extension": ".py",
   "mimetype": "text/x-python",
   "name": "python",
   "nbconvert_exporter": "python",
   "pygments_lexer": "ipython3",
   "version": "3.7.3"
  }
 },
 "nbformat": 4,
 "nbformat_minor": 2
}
